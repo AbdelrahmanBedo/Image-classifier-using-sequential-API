{
  "cells": [
    {
      "cell_type": "code",
      "source": [
        "import tensorflow as tf"
      ],
      "metadata": {
        "id": "-I2nQYeQhiAY"
      },
      "execution_count": 4,
      "outputs": []
    },
    {
      "cell_type": "code",
      "source": [
        "fashion_mnist = tf.keras.datasets.fashion_mnist.load_data()\n",
        "(x_train_full,y_train_full),(x_test,y_test) = fashion_mnist\n",
        "x_train , y_train = x_train_full[:-5000],y_train_full[:-5000]\n",
        "x_valid , y_valid = x_train_full[-5000:],y_train_full[-5000:]"
      ],
      "metadata": {
        "id": "JnYvjk7Zhl64"
      },
      "execution_count": 5,
      "outputs": []
    },
    {
      "cell_type": "code",
      "source": [
        "x_train.shape"
      ],
      "metadata": {
        "colab": {
          "base_uri": "https://localhost:8080/"
        },
        "id": "YfbjkADhia1f",
        "outputId": "0e81917d-7839-49cc-c070-c3d5dea8f033"
      },
      "execution_count": 6,
      "outputs": [
        {
          "output_type": "execute_result",
          "data": {
            "text/plain": [
              "(55000, 28, 28)"
            ]
          },
          "metadata": {},
          "execution_count": 6
        }
      ]
    },
    {
      "cell_type": "code",
      "source": [
        "x_train,x_valid,x_test=x_train/255. , x_valid/255. , x_test/255."
      ],
      "metadata": {
        "id": "51j1HjrBigwG"
      },
      "execution_count": 7,
      "outputs": []
    },
    {
      "cell_type": "code",
      "source": [
        "class_names = [\"T-shirt/top\",\"Trouser\",\"pullover\",\"Dress\",\"Coat\",\"Sandal\",\"Shirt\",\"Sneaker\",\"Bag\",\"Ankle boot\"]"
      ],
      "metadata": {
        "id": "5n0FGQsvi2Mu"
      },
      "execution_count": 8,
      "outputs": []
    },
    {
      "cell_type": "code",
      "source": [
        "class_names[y_train[0]]"
      ],
      "metadata": {
        "colab": {
          "base_uri": "https://localhost:8080/",
          "height": 36
        },
        "id": "RiOU7cYfuDfz",
        "outputId": "dadff345-c3cf-458b-c2b3-1f04c90d9e16"
      },
      "execution_count": 9,
      "outputs": [
        {
          "output_type": "execute_result",
          "data": {
            "text/plain": [
              "'Ankle boot'"
            ],
            "application/vnd.google.colaboratory.intrinsic+json": {
              "type": "string"
            }
          },
          "metadata": {},
          "execution_count": 9
        }
      ]
    },
    {
      "cell_type": "code",
      "source": [
        "tf.random.set_seed(42)\n",
        "model = tf.keras.Sequential()\n",
        "model.add(tf.keras.layers.Input(shape=[28,28]))\n",
        "model.add(tf.keras.layers.Flatten())\n",
        "model.add(tf.keras.layers.Dense(300,activation=\"relu\"))\n",
        "model.add(tf.keras.layers.Dense(100,activation=\"relu\"))\n",
        "model.add(tf.keras.layers.Dense(10,activation=\"softmax\"))\n",
        "\n",
        "\n"
      ],
      "metadata": {
        "id": "f8Kv3JM2jdNm"
      },
      "execution_count": 10,
      "outputs": []
    },
    {
      "cell_type": "code",
      "source": [
        "model.summary()"
      ],
      "metadata": {
        "colab": {
          "base_uri": "https://localhost:8080/"
        },
        "id": "YRGLGFr5kwqX",
        "outputId": "effa0c73-6000-4a39-e64c-7abb9bc590bd"
      },
      "execution_count": 11,
      "outputs": [
        {
          "output_type": "stream",
          "name": "stdout",
          "text": [
            "Model: \"sequential\"\n",
            "_________________________________________________________________\n",
            " Layer (type)                Output Shape              Param #   \n",
            "=================================================================\n",
            " flatten (Flatten)           (None, 784)               0         \n",
            "                                                                 \n",
            " dense (Dense)               (None, 300)               235500    \n",
            "                                                                 \n",
            " dense_1 (Dense)             (None, 100)               30100     \n",
            "                                                                 \n",
            " dense_2 (Dense)             (None, 10)                1010      \n",
            "                                                                 \n",
            "=================================================================\n",
            "Total params: 266610 (1.02 MB)\n",
            "Trainable params: 266610 (1.02 MB)\n",
            "Non-trainable params: 0 (0.00 Byte)\n",
            "_________________________________________________________________\n"
          ]
        }
      ]
    },
    {
      "cell_type": "code",
      "source": [
        "tf.keras.utils.plot_model(model)"
      ],
      "metadata": {
        "colab": {
          "base_uri": "https://localhost:8080/",
          "height": 466
        },
        "id": "g_JzfB2Lnsp9",
        "outputId": "cf167d2c-2cfb-4c76-a251-8a3abbe6c7fc"
      },
      "execution_count": 12,
      "outputs": [
        {
          "output_type": "execute_result",
          "data": {
            "image/png": "[encoded data removed]",
            "text/plain": [
              "<IPython.core.display.Image object>"
            ]
          },
          "metadata": {},
          "execution_count": 12
        }
      ]
    },
    {
      "cell_type": "code",
      "source": [
        "model.compile(loss = \"sparse_categorical_crossentropy\",\n",
        "optimizer=\"sgd\",metrics=\"accuracy\")"
      ],
      "metadata": {
        "id": "RisSIDDqohcF"
      },
      "execution_count": 13,
      "outputs": []
    },
    {
      "cell_type": "code",
      "source": [
        "history = model.fit(x_train , y_train , epochs = 30 , validation_data = (x_valid , y_valid))"
      ],
      "metadata": {
        "colab": {
          "base_uri": "https://localhost:8080/"
        },
        "id": "IFz7IgKCqEt1",
        "outputId": "ea21ff4c-94a6-4eb6-d1c5-1312b8f2fe36"
      },
      "execution_count": 14,
      "outputs": [
        {
          "output_type": "stream",
          "name": "stdout",
          "text": [
            "Epoch 1/30\n",
            "1719/1719 [==============================] - 18s 9ms/step - loss: 0.7304 - accuracy: 0.7591 - val_loss: 0.5107 - val_accuracy: 0.8238\n",
            "Epoch 2/30\n",
            "1719/1719 [==============================] - 8s 5ms/step - loss: 0.4906 - accuracy: 0.8299 - val_loss: 0.4636 - val_accuracy: 0.8334\n",
            "Epoch 3/30\n",
            "1719/1719 [==============================] - 8s 5ms/step - loss: 0.4437 - accuracy: 0.8445 - val_loss: 0.4347 - val_accuracy: 0.8456\n",
            "Epoch 4/30\n",
            "1719/1719 [==============================] - 9s 5ms/step - loss: 0.4189 - accuracy: 0.8539 - val_loss: 0.3989 - val_accuracy: 0.8598\n",
            "Epoch 5/30\n",
            "1719/1719 [==============================] - 8s 5ms/step - loss: 0.3975 - accuracy: 0.8607 - val_loss: 0.3922 - val_accuracy: 0.8602\n",
            "Epoch 6/30\n",
            "1719/1719 [==============================] - 8s 5ms/step - loss: 0.3805 - accuracy: 0.8651 - val_loss: 0.3955 - val_accuracy: 0.8624\n",
            "Epoch 7/30\n",
            "1719/1719 [==============================] - 9s 5ms/step - loss: 0.3678 - accuracy: 0.8687 - val_loss: 0.3761 - val_accuracy: 0.8670\n",
            "Epoch 8/30\n",
            "1719/1719 [==============================] - 8s 5ms/step - loss: 0.3556 - accuracy: 0.8737 - val_loss: 0.3726 - val_accuracy: 0.8636\n",
            "Epoch 9/30\n",
            "1719/1719 [==============================] - 8s 5ms/step - loss: 0.3445 - accuracy: 0.8781 - val_loss: 0.3529 - val_accuracy: 0.8740\n",
            "Epoch 10/30\n",
            "1719/1719 [==============================] - 9s 5ms/step - loss: 0.3343 - accuracy: 0.8806 - val_loss: 0.3575 - val_accuracy: 0.8718\n",
            "Epoch 11/30\n",
            "1719/1719 [==============================] - 9s 5ms/step - loss: 0.3255 - accuracy: 0.8844 - val_loss: 0.3737 - val_accuracy: 0.8624\n",
            "Epoch 12/30\n",
            "1719/1719 [==============================] - 8s 5ms/step - loss: 0.3173 - accuracy: 0.8864 - val_loss: 0.3446 - val_accuracy: 0.8738\n",
            "Epoch 13/30\n",
            "1719/1719 [==============================] - 9s 5ms/step - loss: 0.3099 - accuracy: 0.8901 - val_loss: 0.3316 - val_accuracy: 0.8810\n",
            "Epoch 14/30\n",
            "1719/1719 [==============================] - 9s 5ms/step - loss: 0.3025 - accuracy: 0.8921 - val_loss: 0.3410 - val_accuracy: 0.8776\n",
            "Epoch 15/30\n",
            "1719/1719 [==============================] - 8s 4ms/step - loss: 0.2963 - accuracy: 0.8944 - val_loss: 0.3350 - val_accuracy: 0.8798\n",
            "Epoch 16/30\n",
            "1719/1719 [==============================] - 9s 5ms/step - loss: 0.2890 - accuracy: 0.8964 - val_loss: 0.3318 - val_accuracy: 0.8796\n",
            "Epoch 17/30\n",
            "1719/1719 [==============================] - 9s 5ms/step - loss: 0.2838 - accuracy: 0.8974 - val_loss: 0.3352 - val_accuracy: 0.8758\n",
            "Epoch 18/30\n",
            "1719/1719 [==============================] - 8s 5ms/step - loss: 0.2777 - accuracy: 0.9003 - val_loss: 0.3283 - val_accuracy: 0.8798\n",
            "Epoch 19/30\n",
            "1719/1719 [==============================] - 9s 5ms/step - loss: 0.2726 - accuracy: 0.9016 - val_loss: 0.3487 - val_accuracy: 0.8702\n",
            "Epoch 20/30\n",
            "1719/1719 [==============================] - 9s 5ms/step - loss: 0.2671 - accuracy: 0.9035 - val_loss: 0.3244 - val_accuracy: 0.8812\n",
            "Epoch 21/30\n",
            "1719/1719 [==============================] - 8s 4ms/step - loss: 0.2626 - accuracy: 0.9057 - val_loss: 0.3174 - val_accuracy: 0.8850\n",
            "Epoch 22/30\n",
            "1719/1719 [==============================] - 9s 5ms/step - loss: 0.2573 - accuracy: 0.9069 - val_loss: 0.3178 - val_accuracy: 0.8854\n",
            "Epoch 23/30\n",
            "1719/1719 [==============================] - 9s 5ms/step - loss: 0.2532 - accuracy: 0.9094 - val_loss: 0.3404 - val_accuracy: 0.8748\n",
            "Epoch 24/30\n",
            "1719/1719 [==============================] - 8s 5ms/step - loss: 0.2481 - accuracy: 0.9109 - val_loss: 0.3221 - val_accuracy: 0.8844\n",
            "Epoch 25/30\n",
            "1719/1719 [==============================] - 8s 5ms/step - loss: 0.2440 - accuracy: 0.9117 - val_loss: 0.3238 - val_accuracy: 0.8802\n",
            "Epoch 26/30\n",
            "1719/1719 [==============================] - 9s 5ms/step - loss: 0.2402 - accuracy: 0.9145 - val_loss: 0.3184 - val_accuracy: 0.8854\n",
            "Epoch 27/30\n",
            "1719/1719 [==============================] - 8s 5ms/step - loss: 0.2352 - accuracy: 0.9148 - val_loss: 0.3267 - val_accuracy: 0.8848\n",
            "Epoch 28/30\n",
            "1719/1719 [==============================] - 8s 5ms/step - loss: 0.2319 - accuracy: 0.9170 - val_loss: 0.3163 - val_accuracy: 0.8846\n",
            "Epoch 29/30\n",
            "1719/1719 [==============================] - 9s 5ms/step - loss: 0.2279 - accuracy: 0.9179 - val_loss: 0.3277 - val_accuracy: 0.8838\n",
            "Epoch 30/30\n",
            "1719/1719 [==============================] - 8s 5ms/step - loss: 0.2242 - accuracy: 0.9197 - val_loss: 0.3099 - val_accuracy: 0.8840\n"
          ]
        }
      ]
    },
    {
      "cell_type": "code",
      "source": [
        "import matplotlib.pyplot as plt\n",
        "import pandas as pd\n",
        "pd.DataFrame(history.history).plot(\n",
        "    figsize=(8,5),xlim=[0,29],ylim=[0,1],grid =True,xlabel=\"Epoch\",style=[\"r--\",\"r--\",\"b-\",\"b-*\"]\n",
        ")\n",
        "plt.show()"
      ],
      "metadata": {
        "colab": {
          "base_uri": "https://localhost:8080/",
          "height": 470
        },
        "id": "8Z8QGOzT4bKp",
        "outputId": "0c9a5a9d-6522-4a3b-d4a1-69a6f2db039e"
      },
      "execution_count": 17,
      "outputs": [
        {
          "output_type": "display_data",
          "data": {
            "text/plain": [
              "<Figure size 800x500 with 1 Axes>"
            ],
            "image/png": "[encoded data removed]"
          },
          "metadata": {}
        }
      ]
    },
    {
      "cell_type": "code",
      "source": [
        "model.evaluate(x_test,y_test)"
      ],
      "metadata": {
        "colab": {
          "base_uri": "https://localhost:8080/"
        },
        "id": "3hSe-_vH5RjK",
        "outputId": "1ccfc516-4cfe-4856-82e8-22531b82c6e0"
      },
      "execution_count": 18,
      "outputs": [
        {
          "output_type": "stream",
          "name": "stdout",
          "text": [
            "313/313 [==============================] - 2s 5ms/step - loss: 0.3245 - accuracy: 0.8849\n"
          ]
        },
        {
          "output_type": "execute_result",
          "data": {
            "text/plain": [
              "[0.3245192766189575, 0.8848999738693237]"
            ]
          },
          "metadata": {},
          "execution_count": 18
        }
      ]
    },
    {
      "cell_type": "code",
      "source": [
        "x_new = x_test[:3]\n",
        "y_proba = model.predict(x_new)\n",
        "y_proba.round(2)"
      ],
      "metadata": {
        "colab": {
          "base_uri": "https://localhost:8080/"
        },
        "id": "LCKNxF8W8rnR",
        "outputId": "3d294230-574a-4203-8e8e-a4e2504d92e9"
      },
      "execution_count": 19,
      "outputs": [
        {
          "output_type": "stream",
          "name": "stdout",
          "text": [
            "1/1 [==============================] - 0s 205ms/step\n"
          ]
        },
        {
          "output_type": "execute_result",
          "data": {
            "text/plain": [
              "array([[0.  , 0.  , 0.  , 0.  , 0.  , 0.01, 0.  , 0.01, 0.  , 0.98],\n",
              "       [0.  , 0.  , 0.99, 0.  , 0.  , 0.  , 0.  , 0.  , 0.  , 0.  ],\n",
              "       [0.  , 1.  , 0.  , 0.  , 0.  , 0.  , 0.  , 0.  , 0.  , 0.  ]],\n",
              "      dtype=float32)"
            ]
          },
          "metadata": {},
          "execution_count": 19
        }
      ]
    },
    {
      "cell_type": "code",
      "source": [
        "import numpy as np\n",
        "y_pred = y_proba.argmax(axis = -1)\n",
        "y_pred"
      ],
      "metadata": {
        "colab": {
          "base_uri": "https://localhost:8080/"
        },
        "id": "6APmBwFy9Mz4",
        "outputId": "0dc7149f-58b6-4918-bc18-ac552221d088"
      },
      "execution_count": 21,
      "outputs": [
        {
          "output_type": "execute_result",
          "data": {
            "text/plain": [
              "array([9, 2, 1])"
            ]
          },
          "metadata": {},
          "execution_count": 21
        }
      ]
    },
    {
      "cell_type": "code",
      "source": [
        "np.array(class_names)[y_pred]"
      ],
      "metadata": {
        "colab": {
          "base_uri": "https://localhost:8080/"
        },
        "id": "IL20FNAK-NAq",
        "outputId": "6bd36ec7-27d6-42eb-9968-4b36dcc8e24b"
      },
      "execution_count": 22,
      "outputs": [
        {
          "output_type": "execute_result",
          "data": {
            "text/plain": [
              "array(['Ankle boot', 'pullover', 'Trouser'], dtype='<U11')"
            ]
          },
          "metadata": {},
          "execution_count": 22
        }
      ]
    },
    {
      "cell_type": "code",
      "source": [
        "y_new = y_test[:3]\n",
        "y_new"
      ],
      "metadata": {
        "colab": {
          "base_uri": "https://localhost:8080/"
        },
        "id": "glknkHur-a2x",
        "outputId": "9c68cbce-5ce6-41f5-8511-036f067cff5e"
      },
      "execution_count": 23,
      "outputs": [
        {
          "output_type": "execute_result",
          "data": {
            "text/plain": [
              "array([9, 2, 1], dtype=uint8)"
            ]
          },
          "metadata": {},
          "execution_count": 23
        }
      ]
    },
    {
      "cell_type": "code",
      "source": [],
      "metadata": {
        "id": "paQt6tyV-iyx"
      },
      "execution_count": null,
      "outputs": []
    }
  ],
  "metadata": {
    "colab": {
      "name": "Welcome To Colaboratory",
      "provenance": []
    },
    "kernelspec": {
      "display_name": "Python 3",
      "name": "python3"
    }
  },
  "nbformat": 4,
  "nbformat_minor": 0
}